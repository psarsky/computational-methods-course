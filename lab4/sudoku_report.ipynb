{
 "cells": [
  {
   "cell_type": "markdown",
   "id": "e2004fc1",
   "metadata": {},
   "source": [
    "# Sprawozdanie - MOwNiT - laboratorium 4., zadanie 3."
   ]
  },
  {
   "cell_type": "markdown",
   "id": "04275002",
   "metadata": {},
   "source": [
    "#### Autor: Jakub Psarski"
   ]
  },
  {
   "cell_type": "markdown",
   "id": "7b49b49e",
   "metadata": {},
   "source": [
    "## Sudoku"
   ]
  },
  {
   "cell_type": "markdown",
   "id": "42a20a49",
   "metadata": {},
   "source": [
    "Napisz program poszukujący rozwiązania łamigłówki Sudoku za pomocą symulowanego wyżarzania. Plansza $9 \\times 9$ ma zostać wczytana z pliku tekstowego, w którym pola puste zaznaczone są znakiem `x`. Jako funkcję kosztu przyjmij sumę powtórzeń cyfr występujących w wierszach bloku $9 \\times 9$, kolumnach bloku $9 \\times 9$ oraz blokach $3 \\times 3$. Zaproponuj metodę generacji stanu sąsiedniego. Przedstaw zależność liczby iteracji algorytmu od liczby pustych miejsc na planszy. Czy Twój program jest w stanie znaleźć poprawne rozwiązanie dla każdej z testowanych konfiguracji wejściowych?"
   ]
  }
 ],
 "metadata": {
  "language_info": {
   "name": "python"
  }
 },
 "nbformat": 4,
 "nbformat_minor": 5
}
